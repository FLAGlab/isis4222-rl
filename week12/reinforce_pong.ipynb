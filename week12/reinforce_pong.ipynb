{
 "cells": [
  {
   "cell_type": "markdown",
   "metadata": {},
   "source": [
    "# Implementación de REINFORCE en PONG\n",
    "\n",
    "Como ejercicio de ejecución para los algoritmos de gradiente de política sobre el juego de PONG.\n",
    "\n",
    "Para esto, reutilizaremos el código utilizado para el problema de CartPole, guaindonos de la implementación de [pong](https://github.com/FLAGlab/isis4222-rl/blob/master/week12/pong_pg.py). \n",
    "\n",
    "\n",
    "Para este trabajo, debe explorar disitntas arquitecturas de la red (cantidad de neuronas o capas) en las que pueda observar las recompensas y su convergencia. ¿Qué nota de las diferentes ejecuciónes?"
   ]
  },
  {
   "cell_type": "code",
   "execution_count": null,
   "metadata": {
    "vscode": {
     "languageId": "plaintext"
    }
   },
   "outputs": [],
   "source": []
  }
 ],
 "metadata": {
  "language_info": {
   "name": "python"
  }
 },
 "nbformat": 4,
 "nbformat_minor": 2
}
