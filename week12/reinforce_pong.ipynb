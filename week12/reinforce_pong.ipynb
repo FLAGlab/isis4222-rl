{
 "cells": [
  {
   "cell_type": "markdown",
   "metadata": {},
   "source": [
    "# Implementación de REINFORCE en PONG\n",
    "\n",
    "Como ejercicio de ejecución para los algoritmos de gradiente de política sobre el juego de PONG.\n",
    "\n",
    "para esto, reutilizaremos el código utilizado para el problema de CartPole. \n",
    "\n",
    "Para este trabajo, debe explorar disitntas arquitecturas de la red (cantidad de neuronas o capas) en las que pueda observar las recompensas y su convergencia. ¿Qué nota de las diferentes ejecuciónes?"
   ]
  }
 ],
 "metadata": {
  "language_info": {
   "name": "python"
  }
 },
 "nbformat": 4,
 "nbformat_minor": 2
}
