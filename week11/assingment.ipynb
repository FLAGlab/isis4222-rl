{
 "cells": [
  {
   "attachments": {},
   "cell_type": "markdown",
   "metadata": {},
   "source": [
    "# DQN\n",
    "\n",
    "# Entrega\n",
    "\n",
    "Para todos los ejercicios deben entregar un archivo de notebooks (`.ipynb`) y un documento (.pdf) con en análisis y respuestas a las preguntas (estas pueden estar embebidas en el archivo de notebook si no son muy largas).\n",
    "\n",
    "# Preambulo\n",
    "\n",
    "Para el desarrollo del taller, los siguientes recursos (tutoriales, ejemplos) pueden ser de utilidad \n",
    "\n",
    "- Intro gymnasium: https://gymnasium.farama.org/\n",
    "- Intro Google Colab: https://colab.research.google.com/notebooks/intro.ipynb\n",
    "\n",
    "# Ejercicio 1\n",
    "\n",
    "el código de taxi (https://github.com/FLAGlab/isis4222-rl/blob/master/week11/taxi_demo.ipynb) entrena por 100000 episodios y prueba por 100. El resultado de este proceso es \n",
    "\n",
    "```\n",
    "Results after 100 episodes:\n",
    "Average timesteps per episode: 13.16\n",
    "Average penalties per episode: 0.0\n",
    "Average reward per episode: 7.84\n",
    "```"
   ]
  },
  {
   "attachments": {},
   "cell_type": "markdown",
   "metadata": {},
   "source": []
  }
 ],
 "metadata": {
  "language_info": {
   "name": "python"
  },
  "orig_nbformat": 4
 },
 "nbformat": 4,
 "nbformat_minor": 2
}
