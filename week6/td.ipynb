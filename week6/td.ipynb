{
 "cells": [
  {
   "attachments": {},
   "cell_type": "markdown",
   "metadata": {},
   "source": [
    "# Aprendizaje por diferencia temporal (TD)\n",
    "\n",
    "En este ejercicio vamos a implementar el método de diferencia temporal para para resolver MDPs con transiciones y recompensas desconocidas. \n",
    "\n",
    "El método de TD se basa en el cálculo de los valores para los estados de acuerdo con la fórmula:\n",
    "\n",
    "$V^\\pi(s) \\leftarrow (1-\\alpha)V^\\pi(s) + \\alpha[R(s, \\pi(s), s') + \\gamma V^\\pi(s')]$\n",
    "\n",
    "donde $\\alpha$ corresponde a la taza de aprendizaje.\n",
    "\n",
    "#### Task 1\n",
    "\n",
    "Para implementar TD definimos `td_learning.py` como una extensión del ambiente de Gridworld. Dentro de esta extensión debemos asegurarnos que:\n",
    "  - Seguimos una política, dada como un parámetro del ambiente.\n",
    "  - Cada paso de la muestra ejecuta la política para el estado actual, obteniendo un estado de llegada y una recompensa. Tenga en cuenta que las acciones no son determinísticas y la ejecución de cada acción depende de un factor de ruido (en el caso de Gridworld, tomaremos un factor de ruido de 0.2 para las acciones abajo e izquierda y 0.3 para las acciones arriba y derecha, desconocida para el agente). Por ejemplo, el agente tiene una probabilidad de 0.8 de moverse a la izquierda y abajo y terminar en el estado correspondiente y probabilidad de 0.2 de terminar en cualquiera de las otras tres direcciones.\n",
    "  - A partir de los valores obtenidos de diferentes muestras, obtenga una nueva política.\n",
    "  - Utilice una taza de aprendizaje de `0.7`\n",
    "\n",
    "Responda las preguntas\n",
    "1. ¿Cuántas iteraciones son necesarias para que la política de las muestras se estabilice?\n",
    "2. ¿Cómo se compara la política obtenida con la calculada utilizando iteración de valores o iteración de políticas? ¿Existe alguna diferencia? ¿Porqué?\n",
    "\n"
   ]
  }
 ],
 "metadata": {
  "kernelspec": {
   "display_name": "Python 3",
   "language": "python",
   "name": "python3"
  },
  "language_info": {
   "name": "python",
   "version": "3.9.6"
  },
  "orig_nbformat": 4,
  "vscode": {
   "interpreter": {
    "hash": "31f2aee4e71d21fbe5cf8b01ff0e069b9275f58929596ceb00d14d90e3e16cd6"
   }
  }
 },
 "nbformat": 4,
 "nbformat_minor": 2
}
